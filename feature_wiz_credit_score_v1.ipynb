{
  "nbformat": 4,
  "nbformat_minor": 0,
  "metadata": {
    "colab": {
      "provenance": []
    },
    "kernelspec": {
      "name": "python3",
      "display_name": "Python 3"
    },
    "language_info": {
      "name": "python"
    }
  },
  "cells": [
    {
      "cell_type": "code",
      "execution_count": 3,
      "metadata": {
        "id": "xgWfo5l6-Pyr"
      },
      "outputs": [],
      "source": [
        "import pandas as pd"
      ]
    },
    {
      "cell_type": "code",
      "source": [
        "pip install featurewiz"
      ],
      "metadata": {
        "id": "7VrecO9__q-k"
      },
      "execution_count": null,
      "outputs": []
    },
    {
      "cell_type": "code",
      "source": [
        "df = pd.read_csv('CC_Default.csv')"
      ],
      "metadata": {
        "id": "O8IJtOdDADKJ"
      },
      "execution_count": 10,
      "outputs": []
    },
    {
      "cell_type": "code",
      "source": [
        "# prompt: split this data frame into train and test using strify on target which is the column  default payment next month, use sk learn train test split.\n",
        "\n",
        "from sklearn.model_selection import train_test_split\n",
        "\n",
        "X = df.drop('default payment next month', axis=1)\n",
        "y = df['default payment next month']\n",
        "\n",
        "X_train, X_test, y_train, y_test = train_test_split(X, y, test_size=0.3, random_state=42, stratify=y)\n"
      ],
      "metadata": {
        "id": "84cjwH8iAKx3"
      },
      "execution_count": 28,
      "outputs": []
    },
    {
      "cell_type": "code",
      "source": [
        "from sklearn.metrics import f1_score, accuracy_score\n",
        "\n",
        "from sklearn.ensemble import RandomForestClassifier\n",
        "\n",
        "# Define the classifier with default parameters\n",
        "model = RandomForestClassifier()\n",
        "\n",
        "# Train the model (assuming your code already has this)\n",
        "model.fit(X_train, y_train)\n",
        "\n",
        "# Predictions on train and test data\n",
        "y_pred_train = model.predict(X_train)\n",
        "y_pred_test = model.predict(X_test)\n",
        "\n",
        "# Calculate F1 score and accuracy for train and test sets\n",
        "train_f1 = f1_score(y_train, y_pred_train)\n",
        "train_accuracy = accuracy_score(y_train, y_pred_train)\n",
        "test_f1 = f1_score(y_test, y_pred_test)\n",
        "test_accuracy = accuracy_score(y_test, y_pred_test)\n",
        "\n",
        "# Print the results\n",
        "print(\"Test Accuracy:\", test_accuracy)"
      ],
      "metadata": {
        "colab": {
          "base_uri": "https://localhost:8080/"
        },
        "id": "RxPksZFVDQHI",
        "outputId": "b6c955de-42ea-49ac-cced-a9cd42e576f3"
      },
      "execution_count": 23,
      "outputs": [
        {
          "output_type": "stream",
          "name": "stdout",
          "text": [
            "Test Accuracy: 0.8154444444444444\n"
          ]
        }
      ]
    },
    {
      "cell_type": "code",
      "source": [
        "from featurewiz import FeatureWiz\n",
        "fwiz = FeatureWiz(feature_engg = ['interactions', 'groupby', 'target'], nrows=None, transform_target=True, scalers=\"std\",\n",
        "        \t\tcategory_encoders=\"auto\", add_missing=False, verbose=0, imbalanced=False, corr_limit = 0.7 ,\n",
        "                ae_options={})\n",
        "X_train_selected, y_train = fwiz.fit_transform(X_train, y_train)\n",
        "X_test_selected = fwiz.transform(X_test)\n",
        "### get list of selected features ###\n",
        "fwiz.features"
      ],
      "metadata": {
        "colab": {
          "base_uri": "https://localhost:8080/"
        },
        "id": "qRfXSB7GAK15",
        "outputId": "b0fc037c-8d52-4478-81cd-ad7eb46d23f8"
      },
      "execution_count": 30,
      "outputs": [
        {
          "output_type": "stream",
          "name": "stdout",
          "text": [
            "featurewiz is given 0.7 as correlation limit...\n",
            "    Warning: Too many features will be generated since feature engg specified\n",
            "    moving target encoder from feature_engg to category_encoders list\n",
            "    final list of feature engineering given: ['interactions', 'groupby']\n",
            "    final list of category encoders given: ['onehot', 'label', 'target']\n",
            "    final list of scalers given: [std]\n",
            "Loaded input data. Shape = (21000, 24)\n",
            "#### Starting featurewiz transform for train data ####\n",
            "No groupby features created since no categorical or numeric vars in dataset.\n",
            "No interactions created for categorical vars since number less than 2\n",
            "No polynomial vars created since no flag set or less than 2 numeric vars in dataset\n",
            "    Single_Label Binary_Classification problem \n",
            "Shape of dataset: (21000, 300). Now we classify variables into different types...\n",
            "Time taken to define data pipeline = 1 second(s)\n",
            "No model input given...\n",
            "Lazy Transformer Pipeline created...\n",
            "    transformed target from object type to numeric\n",
            "    Time taken to fit dataset = 1 second(s)\n",
            "    Time taken to transform dataset = 1 second(s)\n",
            "    Shape of transformed dataset: (21000, 300)\n",
            "    Single_Label Binary_Classification problem \n",
            "Starting SULOV with 300 features...\n",
            "    there are no null values in dataset...\n",
            "    there are no null values in target column...\n",
            "Completed SULOV. 68 features selected\n",
            "Performing recursive XGBoost feature selection from 68 features...\n",
            "    time taken to run entire featurewiz = 102 second(s)\n",
            "Recursive XGBoost selected 38 features...\n",
            "#### Starting featurewiz transform for test data ####\n",
            "Loaded input data. Shape = (9000, 24)\n",
            "    Beware! feature_engg will add 100s, if not 1000s of additional features to your dataset!\n",
            "#### Starting lazytransform for test data ####\n",
            "    Time taken to transform dataset = 1 second(s)\n",
            "    Shape of transformed dataset: (9000, 300)\n",
            "Returning dataframe with 38 features \n"
          ]
        },
        {
          "output_type": "execute_result",
          "data": {
            "text/plain": [
              "['PAY_0 BILL_AMT1',\n",
              " 'AGE PAY_0',\n",
              " 'LIMIT_BAL PAY_AMT2',\n",
              " 'EDUCATION BILL_AMT1',\n",
              " 'ID',\n",
              " 'EDUCATION AGE',\n",
              " 'LIMIT_BAL',\n",
              " 'ID BILL_AMT4',\n",
              " 'ID PAY_2',\n",
              " 'AGE PAY_4',\n",
              " 'ID PAY_5',\n",
              " 'AGE',\n",
              " 'BILL_AMT4 PAY_AMT3',\n",
              " 'LIMIT_BAL PAY_2',\n",
              " 'PAY_0 PAY_AMT2',\n",
              " 'PAY_0 PAY_2',\n",
              " 'BILL_AMT2 PAY_AMT2',\n",
              " 'BILL_AMT3 BILL_AMT5',\n",
              " 'SEX PAY_6',\n",
              " 'PAY_0 PAY_6',\n",
              " 'PAY_3 PAY_AMT5',\n",
              " 'EDUCATION PAY_AMT1',\n",
              " 'PAY_AMT1 PAY_AMT2',\n",
              " 'PAY_6 BILL_AMT6',\n",
              " 'MARRIAGE PAY_AMT3',\n",
              " 'PAY_2 PAY_4',\n",
              " 'PAY_6 PAY_AMT6',\n",
              " 'PAY_AMT2 PAY_AMT6',\n",
              " 'MARRIAGE PAY_AMT4',\n",
              " 'LIMIT_BAL PAY_AMT6',\n",
              " 'BILL_AMT5 PAY_AMT1',\n",
              " 'BILL_AMT2 PAY_AMT5',\n",
              " 'BILL_AMT5 PAY_AMT5',\n",
              " 'BILL_AMT3 PAY_AMT4',\n",
              " 'SEX EDUCATION',\n",
              " 'EDUCATION MARRIAGE',\n",
              " 'MARRIAGE',\n",
              " 'SEX']"
            ]
          },
          "metadata": {},
          "execution_count": 30
        }
      ]
    },
    {
      "cell_type": "code",
      "source": [
        "from sklearn.metrics import f1_score, accuracy_score\n",
        "\n",
        "from sklearn.ensemble import RandomForestClassifier\n",
        "\n",
        "# Define the classifier with default parameters\n",
        "model = RandomForestClassifier()\n",
        "\n",
        "# Train the model (assuming your code already has this)\n",
        "model.fit(X_train_selected, y_train)\n",
        "\n",
        "# Predictions on train and test data\n",
        "y_pred_train = model.predict(X_train_selected)\n",
        "y_pred_test = model.predict(X_test_selected)\n",
        "\n",
        "# Calculate F1 score and accuracy for train and test sets\n",
        "train_f1 = f1_score(y_train, y_pred_train)\n",
        "train_accuracy = accuracy_score(y_train, y_pred_train)\n",
        "test_f1 = f1_score(y_test, y_pred_test)\n",
        "test_accuracy = accuracy_score(y_test, y_pred_test)\n",
        "\n",
        "# Print the results\n",
        "# print(\"Train F1 Score:\", train_f1)\n",
        "# print(\"Train Accuracy:\", train_accuracy)\n",
        "# print(\"Test F1 Score:\", test_f1)\n",
        "print(\"Test Accuracy:\", test_accuracy)"
      ],
      "metadata": {
        "colab": {
          "base_uri": "https://localhost:8080/"
        },
        "id": "CvAc5pjOIM4s",
        "outputId": "9429e271-b3c2-4844-cba3-b27d4671d6be"
      },
      "execution_count": 31,
      "outputs": [
        {
          "output_type": "stream",
          "name": "stdout",
          "text": [
            "Test Accuracy: 0.8167777777777778\n"
          ]
        }
      ]
    },
    {
      "cell_type": "code",
      "source": [
        "# model registry ->\n",
        "# raw features -> test accuracy 0.78\n",
        "# raw features corr_limit = 0.7 and no imbalance -> test accuracy 0.816777 ( greater than normal RFclassifier score)"
      ],
      "metadata": {
        "id": "WWzYXH-1IRFb"
      },
      "execution_count": null,
      "outputs": []
    },
    {
      "cell_type": "code",
      "source": [
        "# reference\n",
        "#  https://pypi.org/project/featurewiz/"
      ],
      "metadata": {
        "id": "8Y_EtNQxMOEE"
      },
      "execution_count": null,
      "outputs": []
    }
  ]
}